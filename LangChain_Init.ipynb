{
  "nbformat": 4,
  "nbformat_minor": 0,
  "metadata": {
    "colab": {
      "provenance": [],
      "collapsed_sections": [
        "6HB8EThn4R4s"
      ],
      "include_colab_link": true
    },
    "kernelspec": {
      "name": "python3",
      "display_name": "Python 3"
    },
    "language_info": {
      "name": "python"
    }
  },
  "cells": [
    {
      "cell_type": "markdown",
      "metadata": {
        "id": "view-in-github",
        "colab_type": "text"
      },
      "source": [
        "<a href=\"https://colab.research.google.com/github/maninog/langchain/blob/main/LangChain_Init.ipynb\" target=\"_parent\"><img src=\"https://colab.research.google.com/assets/colab-badge.svg\" alt=\"Open In Colab\"/></a>"
      ]
    },
    {
      "cell_type": "markdown",
      "source": [
        "# LangChain Init"
      ],
      "metadata": {
        "id": "ulRQ6MLpRL1D"
      }
    },
    {
      "cell_type": "markdown",
      "source": [
        "## README\n",
        "- author: [Masumi Morishige](https://twitter.com/masumi_creator)\n",
        "- created_at: 2023-05-02\n",
        "- updated_at: 2023-05-06\n",
        "\n",
        "### 実行方法\n",
        "1. OpenAIのAPIキーを発行\n",
        "2. `os.environ[\"OPENAI_API_KEY\"] = \"...\"`の`\"\"`の中にご自身のAPIキーを代入\n",
        "3. 「ランタイム > すべてのセルを実行」を実行\n",
        "\n",
        "### 参考情報\n",
        "- Zenn: [LangChainの概要と使い方](https://zenn.dev/umi_mori/books/prompt-engineer/viewer/langchain_overview)\n",
        "- YouTube: [LangChainの概要と使い方](https://youtu.be/xGOfUA5MkuY)"
      ],
      "metadata": {
        "id": "HM7X6t1E3__R"
      }
    },
    {
      "cell_type": "markdown",
      "source": [
        "### OpenAI APIの発行方法"
      ],
      "metadata": {
        "id": "6HB8EThn4R4s"
      }
    },
    {
      "cell_type": "markdown",
      "source": [
        "[<img src=\"https://img.youtube.com/vi/frpsKLNW1q4/maxresdefault.jpg\" width=\"600px\">](https://youtu.be/frpsKLNW1q4)\n",
        "\n",
        "[【エンジニア向け】OpenAIのAPI連携方法【環境構築 + GASによるGoogle Documentへの組み込み】](https://youtu.be/frpsKLNW1q4)"
      ],
      "metadata": {
        "id": "Nuu1XQWS4UQC"
      }
    },
    {
      "cell_type": "markdown",
      "source": [
        "### Pythonにおける環境構築の方法と使い方"
      ],
      "metadata": {
        "id": "mNkFrTUV4YzA"
      }
    },
    {
      "cell_type": "code",
      "execution_count": null,
      "metadata": {
        "id": "OJSUawVB3T_P"
      },
      "outputs": [],
      "source": [
        "!pip3 install langchain openai"
      ]
    },
    {
      "cell_type": "code",
      "source": [
        "import os\n",
        "\n",
        "#TODO: APIキーの登録が必要\n",
        "os.environ[\"OPENAI_API_KEY\"] = \"...\""
      ],
      "metadata": {
        "id": "WBNakfZx3nx4"
      },
      "execution_count": null,
      "outputs": []
    },
    {
      "cell_type": "code",
      "source": [
        "from langchain import PromptTemplate\n",
        "from langchain.llms import OpenAI\n",
        "from langchain import LLMChain\n",
        "\n",
        "# OpenAIのモデルのインスタンスを作成\n",
        "llm = OpenAI(model_name=\"text-davinci-003\")\n",
        "\n",
        "# プロンプトのテンプレート文章を定義\n",
        "template = \"\"\"\n",
        "次の文章に誤字がないか調べて。誤字があれば訂正してください。\n",
        "{sentences_before_check}\n",
        "\"\"\"\n",
        "\n",
        "# テンプレート文章にあるチェック対象の単語を変数化\n",
        "prompt = PromptTemplate(\n",
        "    input_variables=[\"sentences_before_check\"],\n",
        "    template=template\n",
        ")\n",
        "\n",
        "# OpenAIのAPIにこのプロンプトを送信するためのチェーンを作成\n",
        "chain = LLMChain(llm=llm, prompt=prompt,verbose=True)\n",
        "\n",
        "# チェーンを実行し、結果を表示\n",
        "print(chain(\"こんんちわ、真純です。\"))"
      ],
      "metadata": {
        "id": "btRn75KM3pf0"
      },
      "execution_count": null,
      "outputs": []
    }
  ]
}