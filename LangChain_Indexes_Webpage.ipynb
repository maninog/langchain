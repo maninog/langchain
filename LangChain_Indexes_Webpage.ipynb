{
  "nbformat": 4,
  "nbformat_minor": 0,
  "metadata": {
    "colab": {
      "provenance": [],
      "include_colab_link": true
    },
    "kernelspec": {
      "name": "python3",
      "display_name": "Python 3"
    },
    "language_info": {
      "name": "python"
    }
  },
  "cells": [
    {
      "cell_type": "markdown",
      "metadata": {
        "id": "view-in-github",
        "colab_type": "text"
      },
      "source": [
        "<a href=\"https://colab.research.google.com/github/maninog/langchain/blob/main/LangChain_Indexes_Webpage.ipynb\" target=\"_parent\"><img src=\"https://colab.research.google.com/assets/colab-badge.svg\" alt=\"Open In Colab\"/></a>"
      ]
    },
    {
      "cell_type": "markdown",
      "source": [
        "# LangChain Indexes（Webpage）"
      ],
      "metadata": {
        "id": "ulRQ6MLpRL1D"
      }
    },
    {
      "cell_type": "markdown",
      "source": [
        "## README\n",
        "- author: [Masumi Morishige](https://twitter.com/masumi_creator)\n",
        "- created_at: 2023-04-23\n",
        "- updated_at: 2023-06-29\n",
        "\n",
        "### 実行方法\n",
        "1. OpenAIのAPIキーを発行\n",
        "2. `os.environ[\"OPENAI_API_KEY\"] = \"...\"`の`\"\"`の中にご自身のAPIキーを代入\n",
        "3. 「ランタイム > すべてのセルを実行」を実行\n",
        "\n",
        "### 参考情報\n",
        "- Zenn: [制作中]\n",
        "- YouTube: [ウェブページをChatGPTに学習させる方法【Python / LangChain / FAQ】](https://youtu.be/qdvgpoVqfzs)"
      ],
      "metadata": {
        "id": "LGsXSj2f-Dq2"
      }
    },
    {
      "cell_type": "markdown",
      "metadata": {
        "id": "RdsYMha5Xwx1"
      },
      "source": [
        "### OpenAI APIの発行方法"
      ]
    },
    {
      "cell_type": "markdown",
      "metadata": {
        "id": "PWofrohjgY9B"
      },
      "source": [
        "[<img src=\"https://img.youtube.com/vi/frpsKLNW1q4/maxresdefault.jpg\" width=\"600px\">](https://youtu.be/frpsKLNW1q4)\n",
        "\n",
        "[【エンジニア向け】OpenAIのAPI連携方法【環境構築 + GASによるGoogle Documentへの組み込み】](https://youtu.be/frpsKLNW1q4)"
      ]
    },
    {
      "cell_type": "markdown",
      "source": [
        "## 環境構築"
      ],
      "metadata": {
        "id": "umvezGLzQ5-3"
      }
    },
    {
      "cell_type": "code",
      "source": [
        "!pip install langchain==0.0.145"
      ],
      "metadata": {
        "id": "YZwA51jTQNqv"
      },
      "execution_count": null,
      "outputs": []
    },
    {
      "cell_type": "code",
      "source": [
        "!pip install openai==0.27.8"
      ],
      "metadata": {
        "id": "hIL1fCTAQXkD"
      },
      "execution_count": null,
      "outputs": []
    },
    {
      "cell_type": "code",
      "execution_count": null,
      "metadata": {
        "id": "cCzmvPurP9OP"
      },
      "outputs": [],
      "source": [
        "import os\n",
        "\n",
        "#TODO: APIキーの登録が必要\n",
        "os.environ[\"OPENAI_API_KEY\"] = \"...\""
      ]
    },
    {
      "cell_type": "code",
      "source": [
        "!pip install chromadb==0.3.26"
      ],
      "metadata": {
        "id": "abz7gM4CvjU2"
      },
      "execution_count": null,
      "outputs": []
    },
    {
      "cell_type": "code",
      "source": [
        "!pip install tiktoken==0.4.0"
      ],
      "metadata": {
        "id": "qCGHXpVrImdt"
      },
      "execution_count": null,
      "outputs": []
    },
    {
      "cell_type": "code",
      "source": [
        "!pip install unstructured==0.7.10"
      ],
      "metadata": {
        "id": "EK4UaTxo6f1g"
      },
      "execution_count": null,
      "outputs": []
    },
    {
      "cell_type": "markdown",
      "source": [
        "## 実装方法"
      ],
      "metadata": {
        "id": "tXfl6kiwQ9r8"
      }
    },
    {
      "cell_type": "code",
      "source": [
        "from langchain.document_loaders import PyPDFLoader\n",
        "from langchain.vectorstores import Chroma\n",
        "from langchain.embeddings.openai import OpenAIEmbeddings\n",
        "from langchain.indexes import VectorstoreIndexCreator\n",
        "from langchain.text_splitter import CharacterTextSplitter\n",
        "\n",
        "from langchain.document_loaders import UnstructuredURLLoader\n",
        "\n",
        "urls = [\n",
        "    \"https://zenn.dev/umi_mori/articles/what-is-gpt-4\", # GPT-4とは？【概要と使い方 / GPT-3.5と比較 / ChatGPTでの使用方法】\n",
        "    \"https://zenn.dev/umi_mori/articles/chatgpt-api-python\", # ChatGPT APIの「概要と使い方」（Pythonコード付き）\n",
        "    \"https://zenn.dev/umi_mori/articles/chatgpt-google-chrome-plugins\", # ChatGPTの便利プラグイン7選【Google Chrome拡張機能】\n",
        "]\n",
        "\n",
        "loader = UnstructuredURLLoader(urls=urls)\n",
        "print(loader.load())\n",
        "\n",
        "text_splitter = CharacterTextSplitter(\n",
        "    separator = \"\\n\",\n",
        "    chunk_size = 300,\n",
        "    chunk_overlap = 0,\n",
        "    length_function = len,\n",
        ")\n",
        "\n",
        "index = VectorstoreIndexCreator(\n",
        "    vectorstore_cls=Chroma, # Default\n",
        "    embedding=OpenAIEmbeddings(), # Default\n",
        "    text_splitter=text_splitter,\n",
        ").from_loaders([loader])\n",
        "\n",
        "query = \"7番目に紹介しているChatGPT便利プラグインは？\"\n",
        "\n",
        "answer = index.query(query)\n",
        "print(answer)"
      ],
      "metadata": {
        "id": "T1FOOtXDQJCH"
      },
      "execution_count": null,
      "outputs": []
    },
    {
      "cell_type": "code",
      "source": [
        "!pip install nest_asyncio==1.5.6"
      ],
      "metadata": {
        "id": "gvfRLxV871Sb"
      },
      "execution_count": null,
      "outputs": []
    },
    {
      "cell_type": "code",
      "source": [
        "from langchain.document_loaders import PyPDFLoader\n",
        "from langchain.vectorstores import Chroma\n",
        "from langchain.embeddings.openai import OpenAIEmbeddings\n",
        "from langchain.indexes import VectorstoreIndexCreator\n",
        "from langchain.text_splitter import CharacterTextSplitter\n",
        "from langchain.document_loaders import UnstructuredURLLoader\n",
        "from langchain.document_loaders.sitemap import SitemapLoader\n",
        "\n",
        "import nest_asyncio\n",
        "\n",
        "nest_asyncio.apply()\n",
        "\n",
        "loader = SitemapLoader(web_path=\"https://langchain.readthedocs.io/sitemap.xml\")\n",
        "\n",
        "print(loader.load())\n",
        "\n",
        "text_splitter = CharacterTextSplitter(\n",
        "    separator = \"\\n\",\n",
        "    chunk_size = 300,\n",
        "    chunk_overlap = 0,\n",
        "    length_function = len,\n",
        ")\n",
        "\n",
        "index = VectorstoreIndexCreator(\n",
        "    vectorstore_cls=Chroma, # Default\n",
        "    embedding=OpenAIEmbeddings(), # Default\n",
        "    text_splitter=text_splitter,\n",
        ").from_loaders([loader])\n",
        "\n",
        "query = \"LangChainとはなんですか？\"\n",
        "\n",
        "answer = index.query(query)\n",
        "print(answer)"
      ],
      "metadata": {
        "id": "qNrRNdkG7vU3"
      },
      "execution_count": null,
      "outputs": []
    },
    {
      "cell_type": "markdown",
      "source": [
        "### ウェブアプリ開発の方法"
      ],
      "metadata": {
        "id": "gvhJU9scXa2c"
      }
    },
    {
      "cell_type": "markdown",
      "source": [
        "[<img src=\"https://img.youtube.com/vi/Cod-3ymwvsQ/maxresdefault.jpg\" width=\"600px\">](https://youtu.be/Cod-3ymwvsQ)\n",
        "\n",
        "[【Python x LangChain x Streamlit x OpenAI API】ChatGPTのウェブアプリ開発入門](https://youtu.be/Cod-3ymwvsQ)"
      ],
      "metadata": {
        "id": "PLNhuk5OXa2d"
      }
    }
  ]
}