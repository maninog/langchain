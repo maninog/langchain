{
  "nbformat": 4,
  "nbformat_minor": 0,
  "metadata": {
    "colab": {
      "provenance": [],
      "collapsed_sections": [
        "s_hCfuDIhbI8",
        "nXTkw62BXPh5"
      ],
      "include_colab_link": true
    },
    "kernelspec": {
      "name": "python3",
      "display_name": "Python 3"
    },
    "language_info": {
      "name": "python"
    }
  },
  "cells": [
    {
      "cell_type": "markdown",
      "metadata": {
        "id": "view-in-github",
        "colab_type": "text"
      },
      "source": [
        "<a href=\"https://colab.research.google.com/github/maninog/langchain/blob/main/LangChain_Chains_Long_Text_QA.ipynb\" target=\"_parent\"><img src=\"https://colab.research.google.com/assets/colab-badge.svg\" alt=\"Open In Colab\"/></a>"
      ]
    },
    {
      "cell_type": "markdown",
      "source": [
        "# LangChain Chains（Long-Text-QA）"
      ],
      "metadata": {
        "id": "ulRQ6MLpRL1D"
      }
    },
    {
      "cell_type": "markdown",
      "source": [
        "## README\n",
        "- author: [Masumi Morishige](https://twitter.com/masumi_creator)\n",
        "- created_at: 2023-05-04\n",
        "- updated_at: 2023-06-28\n",
        "\n",
        "### 実行方法\n",
        "1. OpenAIのAPIキーを発行\n",
        "2. `os.environ[\"OPENAI_API_KEY\"] = \"...\"`の`\"\"`の中にご自身のAPIキーを代入\n",
        "3. 「ランタイム > すべてのセルを実行」を実行\n",
        "\n",
        "### 参考情報\n",
        "- Zenn: [制作中]\n",
        "- YouTube: [文字数制限のないFAQチャットボットの実装方法【Python / LangChain / ChatGPT】](https://youtu.be/MoQcV4s7hQw)"
      ],
      "metadata": {
        "id": "LGsXSj2f-Dq2"
      }
    },
    {
      "cell_type": "markdown",
      "source": [
        "### OpenAI APIの発行方法"
      ],
      "metadata": {
        "id": "s_hCfuDIhbI8"
      }
    },
    {
      "cell_type": "markdown",
      "source": [
        "[<img src=\"https://img.youtube.com/vi/frpsKLNW1q4/maxresdefault.jpg\" width=\"600px\">](https://youtu.be/frpsKLNW1q4)\n",
        "\n",
        "[【エンジニア向け】OpenAIのAPI連携方法【環境構築 + GASによるGoogle Documentへの組み込み】](https://youtu.be/frpsKLNW1q4)"
      ],
      "metadata": {
        "id": "PWofrohjgY9B"
      }
    },
    {
      "cell_type": "markdown",
      "source": [
        "## 環境構築"
      ],
      "metadata": {
        "id": "umvezGLzQ5-3"
      }
    },
    {
      "cell_type": "code",
      "source": [
        "!pip install langchain==0.0.149"
      ],
      "metadata": {
        "id": "YZwA51jTQNqv"
      },
      "execution_count": null,
      "outputs": []
    },
    {
      "cell_type": "code",
      "source": [
        "!pip install openai==0.27.6"
      ],
      "metadata": {
        "id": "hIL1fCTAQXkD"
      },
      "execution_count": null,
      "outputs": []
    },
    {
      "cell_type": "code",
      "execution_count": null,
      "metadata": {
        "id": "cCzmvPurP9OP"
      },
      "outputs": [],
      "source": [
        "import os\n",
        "\n",
        "#TODO: APIキーの登録が必要\n",
        "os.environ[\"OPENAI_API_KEY\"] = \"...\""
      ]
    },
    {
      "cell_type": "code",
      "source": [
        "!pip install youtube-transcript-api==0.6.1"
      ],
      "metadata": {
        "id": "Vw2iDzlgvWU8"
      },
      "execution_count": null,
      "outputs": []
    },
    {
      "cell_type": "code",
      "source": [
        "!pip install tiktoken==0.4.0"
      ],
      "metadata": {
        "id": "5F_rwYMal5n7"
      },
      "execution_count": null,
      "outputs": []
    },
    {
      "cell_type": "markdown",
      "source": [
        "## 実装方法"
      ],
      "metadata": {
        "id": "tXfl6kiwQ9r8"
      }
    },
    {
      "cell_type": "markdown",
      "source": [
        "### 1. map_reduce"
      ],
      "metadata": {
        "id": "-gJX5uhxvpiy"
      }
    },
    {
      "cell_type": "code",
      "source": [
        "from langchain.chat_models import ChatOpenAI\n",
        "\n",
        "from langchain.document_loaders import YoutubeLoader\n",
        "\n",
        "from langchain.text_splitter import CharacterTextSplitter\n",
        "\n",
        "from langchain.docstore.document import Document\n",
        "from langchain.chains.question_answering import load_qa_chain\n",
        "\n",
        "import time\n",
        "start_time = time.time()\n",
        "\n",
        "youtube_url = \"https://www.youtube.com/watch?v=TQvaocfmvaI\" # YouTubeを学習したChatGPTの実装方法【Python / LangChain / YouTube】\n",
        "loader = YoutubeLoader.from_youtube_url(youtube_url, language=\"ja\")\n",
        "transcript_text = loader.load()[0].page_content\n",
        "print(f\"{transcript_text = }\")\n",
        "print(f\"{len(transcript_text) = }\")\n",
        "\n",
        "text_splitter = CharacterTextSplitter(separator=\" \", chunk_size=500)\n",
        "texts = text_splitter.split_text(transcript_text)\n",
        "\n",
        "print(f\"{len(texts) =}\")\n",
        "\n",
        "docs = [Document(page_content=t) for t in texts]\n",
        "\n",
        "chat = ChatOpenAI(model_name=\"gpt-3.5-turbo\")\n",
        "chain = load_qa_chain(\n",
        "    llm=chat,\n",
        "    chain_type=\"map_reduce\",\n",
        "    verbose=True,\n",
        ")\n",
        "\n",
        "question = \"YouTubeを学習したChatGPTを実装するために、インストールが必要なライブラリを教えて。\"\n",
        "\n",
        "output = chain(\n",
        "    {\n",
        "        \"input_documents\": docs,\n",
        "        \"question\": question,\n",
        "    },\n",
        "    return_only_outputs=True,\n",
        ")[\"output_text\"]\n",
        "print(output)\n",
        "\n",
        "print(f\"{time.time() - start_time}\")\n"
      ],
      "metadata": {
        "id": "T1FOOtXDQJCH"
      },
      "execution_count": null,
      "outputs": []
    },
    {
      "cell_type": "markdown",
      "source": [
        "### 2. map_rerank"
      ],
      "metadata": {
        "id": "sanJfPqEvhhI"
      }
    },
    {
      "cell_type": "code",
      "source": [
        "from langchain.chat_models import ChatOpenAI\n",
        "\n",
        "from langchain.document_loaders import YoutubeLoader\n",
        "\n",
        "from langchain.text_splitter import CharacterTextSplitter\n",
        "\n",
        "from langchain.docstore.document import Document\n",
        "from langchain.chains.question_answering import load_qa_chain\n",
        "\n",
        "import time\n",
        "start_time = time.time()\n",
        "\n",
        "youtube_url = \"https://www.youtube.com/watch?v=TQvaocfmvaI\" # YouTubeを学習したChatGPTの実装方法【Python / LangChain / YouTube】\n",
        "loader = YoutubeLoader.from_youtube_url(youtube_url, language=\"ja\")\n",
        "transcript_text = loader.load()[0].page_content\n",
        "print(f\"{transcript_text = }\")\n",
        "print(f\"{len(transcript_text) = }\")\n",
        "\n",
        "text_splitter = CharacterTextSplitter(separator=\" \", chunk_size=500)\n",
        "texts = text_splitter.split_text(transcript_text)\n",
        "\n",
        "print(f\"{len(texts) =}\")\n",
        "\n",
        "docs = [Document(page_content=t) for t in texts]\n",
        "\n",
        "chat = ChatOpenAI(model_name=\"gpt-3.5-turbo\")\n",
        "chain = load_qa_chain(\n",
        "    llm=chat,\n",
        "    chain_type=\"map_rerank\",\n",
        "    verbose=True,\n",
        ")\n",
        "\n",
        "question = \"YouTubeを学習したChatGPTを実装するために、インストールが必要なライブラリを教えて。\"\n",
        "\n",
        "output = chain(\n",
        "    {\n",
        "        \"input_documents\": docs,\n",
        "        \"question\": question,\n",
        "    },\n",
        "    return_only_outputs=True,\n",
        ")[\"output_text\"]\n",
        "print(output)\n",
        "\n",
        "print(f\"{time.time() - start_time}\")\n"
      ],
      "metadata": {
        "id": "-LPTgZRrwI4b"
      },
      "execution_count": null,
      "outputs": []
    },
    {
      "cell_type": "markdown",
      "source": [
        "### 3. refine"
      ],
      "metadata": {
        "id": "iBje5d7Dv5aP"
      }
    },
    {
      "cell_type": "code",
      "source": [
        "from langchain.chat_models import ChatOpenAI\n",
        "\n",
        "from langchain.document_loaders import YoutubeLoader\n",
        "\n",
        "from langchain.text_splitter import CharacterTextSplitter\n",
        "\n",
        "from langchain.docstore.document import Document\n",
        "from langchain.chains.question_answering import load_qa_chain\n",
        "\n",
        "import time\n",
        "start_time = time.time()\n",
        "\n",
        "youtube_url = \"https://www.youtube.com/watch?v=TQvaocfmvaI\" # YouTubeを学習したChatGPTの実装方法【Python / LangChain / YouTube】\n",
        "loader = YoutubeLoader.from_youtube_url(youtube_url, language=\"ja\")\n",
        "transcript_text = loader.load()[0].page_content\n",
        "print(f\"{transcript_text = }\")\n",
        "print(f\"{len(transcript_text) = }\")\n",
        "\n",
        "text_splitter = CharacterTextSplitter(separator=\" \", chunk_size=500)\n",
        "texts = text_splitter.split_text(transcript_text)\n",
        "\n",
        "print(f\"{len(texts) =}\")\n",
        "\n",
        "docs = [Document(page_content=t) for t in texts]\n",
        "\n",
        "chat = ChatOpenAI(model_name=\"gpt-3.5-turbo\")\n",
        "chain = load_qa_chain(\n",
        "    llm=chat,\n",
        "    chain_type=\"refine\",\n",
        "    verbose=True,\n",
        ")\n",
        "\n",
        "question = \"YouTubeを学習したChatGPTを実装するために、インストールが必要なライブラリを教えて。\"\n",
        "\n",
        "output = chain(\n",
        "    {\n",
        "        \"input_documents\": docs,\n",
        "        \"question\": question,\n",
        "    },\n",
        "    return_only_outputs=True,\n",
        ")[\"output_text\"]\n",
        "print(output)\n",
        "\n",
        "print(f\"{time.time() - start_time}\")\n"
      ],
      "metadata": {
        "id": "t16mhyUCyXsQ"
      },
      "execution_count": null,
      "outputs": []
    },
    {
      "cell_type": "code",
      "source": [
        "from langchain.schema import HumanMessage\n",
        "\n",
        "print(chat([HumanMessage(\n",
        "  content=f\"\"\"\n",
        "  次の文章を和訳して。\n",
        "  {output}\n",
        "\"\"\")\n",
        "]).content)"
      ],
      "metadata": {
        "id": "6KTkk7Ub2_1P"
      },
      "execution_count": null,
      "outputs": []
    },
    {
      "cell_type": "markdown",
      "source": [
        "### ウェブアプリ開発の方法"
      ],
      "metadata": {
        "id": "nXTkw62BXPh5"
      }
    },
    {
      "cell_type": "markdown",
      "source": [
        "[<img src=\"https://img.youtube.com/vi/Cod-3ymwvsQ/maxresdefault.jpg\" width=\"600px\">](https://youtu.be/Cod-3ymwvsQ)\n",
        "\n",
        "[【Python x LangChain x Streamlit x OpenAI API】ChatGPTのウェブアプリ開発入門](https://youtu.be/Cod-3ymwvsQ)"
      ],
      "metadata": {
        "id": "u2BJgrL0XPh5"
      }
    }
  ]
}