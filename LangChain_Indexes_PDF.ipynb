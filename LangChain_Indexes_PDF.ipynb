{
  "nbformat": 4,
  "nbformat_minor": 0,
  "metadata": {
    "colab": {
      "provenance": [],
      "collapsed_sections": [
        "K12h1E99Xvak",
        "J8uNGsI6XX8r"
      ],
      "include_colab_link": true
    },
    "kernelspec": {
      "name": "python3",
      "display_name": "Python 3"
    },
    "language_info": {
      "name": "python"
    }
  },
  "cells": [
    {
      "cell_type": "markdown",
      "metadata": {
        "id": "view-in-github",
        "colab_type": "text"
      },
      "source": [
        "<a href=\"https://colab.research.google.com/github/maninog/langchain/blob/main/LangChain_Indexes_PDF.ipynb\" target=\"_parent\"><img src=\"https://colab.research.google.com/assets/colab-badge.svg\" alt=\"Open In Colab\"/></a>"
      ]
    },
    {
      "cell_type": "markdown",
      "source": [
        "# LangChain Indexes（PDF）"
      ],
      "metadata": {
        "id": "ulRQ6MLpRL1D"
      }
    },
    {
      "cell_type": "markdown",
      "source": [
        "## README\n",
        "- author: [Masumi Morishige](https://twitter.com/masumi_creator)\n",
        "- created_at: 2023-04-20\n",
        "- updated_at: 2023-06-29\n",
        "\n",
        "### 実行方法\n",
        "1. OpenAIのAPIキーを発行\n",
        "2. `os.environ[\"OPENAI_API_KEY\"] = \"...\"`の`\"\"`の中にご自身のAPIキーを代入\n",
        "3. 「ランタイム > すべてのセルを実行」を実行\n",
        "\n",
        "### 参考情報\n",
        "- Zenn: [制作中]\n",
        "- YouTube: [PDFを学習させたChatGPTの実装方法【Python / LangChain / FAQチャットボット】](https://youtu.be/wI9S4n-5YOU)"
      ],
      "metadata": {
        "id": "LGsXSj2f-Dq2"
      }
    },
    {
      "cell_type": "markdown",
      "metadata": {
        "id": "K12h1E99Xvak"
      },
      "source": [
        "### OpenAI APIの発行方法"
      ]
    },
    {
      "cell_type": "markdown",
      "metadata": {
        "id": "PWofrohjgY9B"
      },
      "source": [
        "[<img src=\"https://img.youtube.com/vi/frpsKLNW1q4/maxresdefault.jpg\" width=\"600px\">](https://youtu.be/frpsKLNW1q4)\n",
        "\n",
        "[【エンジニア向け】OpenAIのAPI連携方法【環境構築 + GASによるGoogle Documentへの組み込み】](https://youtu.be/frpsKLNW1q4)"
      ]
    },
    {
      "cell_type": "markdown",
      "source": [
        "## 環境構築"
      ],
      "metadata": {
        "id": "umvezGLzQ5-3"
      }
    },
    {
      "cell_type": "code",
      "source": [
        "!pip install langchain==0.0.218"
      ],
      "metadata": {
        "id": "YZwA51jTQNqv"
      },
      "execution_count": null,
      "outputs": []
    },
    {
      "cell_type": "code",
      "source": [
        "!pip install openai==0.27.8"
      ],
      "metadata": {
        "id": "hIL1fCTAQXkD"
      },
      "execution_count": null,
      "outputs": []
    },
    {
      "cell_type": "code",
      "execution_count": null,
      "metadata": {
        "id": "cCzmvPurP9OP"
      },
      "outputs": [],
      "source": [
        "import os\n",
        "\n",
        "#TODO: APIキーの登録が必要\n",
        "os.environ[\"OPENAI_API_KEY\"] = \"...\""
      ]
    },
    {
      "cell_type": "code",
      "source": [
        "!pip install pypdf==3.11.1"
      ],
      "metadata": {
        "id": "nfcwgprr9G_G"
      },
      "execution_count": null,
      "outputs": []
    },
    {
      "cell_type": "code",
      "source": [
        "!pip install chromadb==0.3.26"
      ],
      "metadata": {
        "id": "abz7gM4CvjU2"
      },
      "execution_count": null,
      "outputs": []
    },
    {
      "cell_type": "code",
      "source": [
        "!pip install tiktoken==0.4.0"
      ],
      "metadata": {
        "id": "qCGHXpVrImdt"
      },
      "execution_count": null,
      "outputs": []
    },
    {
      "cell_type": "markdown",
      "source": [
        "## 実装方法"
      ],
      "metadata": {
        "id": "tXfl6kiwQ9r8"
      }
    },
    {
      "cell_type": "code",
      "source": [
        "from langchain.document_loaders import PyPDFLoader\n",
        "from langchain.vectorstores import Chroma\n",
        "from langchain.embeddings.openai import OpenAIEmbeddings\n",
        "from langchain.indexes import VectorstoreIndexCreator\n",
        "\n",
        "loader = PyPDFLoader(\"sample_data/FreelanceSurvey2023.pdf\")\n",
        "\n",
        "index = VectorstoreIndexCreator(\n",
        "    vectorstore_cls=Chroma, # Default\n",
        "    embedding=OpenAIEmbeddings(), # Default\n",
        ").from_loaders([loader])\n",
        "\n",
        "query = \"フリーランス白書のPDFにおける、今回の調査の有効回答数は？\"\n",
        "\n",
        "answer = index.query(query)\n",
        "print(answer)"
      ],
      "metadata": {
        "id": "T1FOOtXDQJCH"
      },
      "execution_count": null,
      "outputs": []
    },
    {
      "cell_type": "code",
      "source": [
        "from langchain.document_loaders import PyPDFLoader\n",
        "from langchain.vectorstores import Chroma\n",
        "from langchain.embeddings.openai import OpenAIEmbeddings\n",
        "from langchain.indexes import VectorstoreIndexCreator\n",
        "\n",
        "loader = PyPDFLoader(\"https://blog.freelance-jp.org/wp-content/uploads/2023/03/FreelanceSurvey2023.pdf\")\n",
        "\n",
        "index = VectorstoreIndexCreator(\n",
        "    vectorstore_cls=Chroma, # Default\n",
        "    embedding=OpenAIEmbeddings(), # Default\n",
        ").from_loaders([loader])\n",
        "\n",
        "query = \"フリーランス白書のPDFにおける、今回の調査の有効回答数は？\"\n",
        "\n",
        "answer = index.query(query)\n",
        "print(answer)"
      ],
      "metadata": {
        "id": "e-bfWUYogU5-"
      },
      "execution_count": null,
      "outputs": []
    },
    {
      "cell_type": "markdown",
      "source": [
        "### ウェブアプリ開発の方法"
      ],
      "metadata": {
        "id": "J8uNGsI6XX8r"
      }
    },
    {
      "cell_type": "markdown",
      "source": [
        "[<img src=\"https://img.youtube.com/vi/Cod-3ymwvsQ/maxresdefault.jpg\" width=\"600px\">](https://youtu.be/Cod-3ymwvsQ)\n",
        "\n",
        "[【Python x LangChain x Streamlit x OpenAI API】ChatGPTのウェブアプリ開発入門](https://youtu.be/Cod-3ymwvsQ)"
      ],
      "metadata": {
        "id": "oTfGO6-5XX8s"
      }
    }
  ]
}