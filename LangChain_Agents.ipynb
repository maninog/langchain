{
  "nbformat": 4,
  "nbformat_minor": 0,
  "metadata": {
    "colab": {
      "provenance": [],
      "collapsed_sections": [
        "sSR5jxYulftv"
      ],
      "include_colab_link": true
    },
    "kernelspec": {
      "name": "python3",
      "display_name": "Python 3"
    },
    "language_info": {
      "name": "python"
    }
  },
  "cells": [
    {
      "cell_type": "markdown",
      "metadata": {
        "id": "view-in-github",
        "colab_type": "text"
      },
      "source": [
        "<a href=\"https://colab.research.google.com/github/maninog/langchain/blob/main/LangChain_Agents.ipynb\" target=\"_parent\"><img src=\"https://colab.research.google.com/assets/colab-badge.svg\" alt=\"Open In Colab\"/></a>"
      ]
    },
    {
      "cell_type": "markdown",
      "source": [
        "# LangChain Agents"
      ],
      "metadata": {
        "id": "ulRQ6MLpRL1D"
      }
    },
    {
      "cell_type": "markdown",
      "source": [
        "## README\n",
        "- author: [Masumi Morishige](https://twitter.com/masumi_creator)\n",
        "- created_at: 2023-05-02\n",
        "- updated_at: 2023-05-06\n",
        "\n",
        "### 実行方法\n",
        "1. OpenAIのAPIキーを発行\n",
        "2. `os.environ[\"OPENAI_API_KEY\"] = \"...\"`の`\"\"`の中にご自身のAPIキーを代入\n",
        "3. 「ランタイム > すべてのセルを実行」を実行\n",
        "\n",
        "### 参考情報\n",
        "- Zenn: [LangChain Agentsとは？【Tools・Agents・Toolkits・Agent Executor】](https://zenn.dev/umi_mori/books/prompt-engineer/viewer/langchain_agents)\n",
        "- YouTube: [LangChain Agentsとは？【Tools / Agents / Toolkits / Agent Executor】](https://youtu.be/5DkBUGqEN0Y)"
      ],
      "metadata": {
        "id": "pGSL4rNVlBLL"
      }
    },
    {
      "cell_type": "markdown",
      "source": [
        "### OpenAI APIの発行方法"
      ],
      "metadata": {
        "id": "sSR5jxYulftv"
      }
    },
    {
      "cell_type": "markdown",
      "source": [
        "[<img src=\"https://img.youtube.com/vi/frpsKLNW1q4/maxresdefault.jpg\" width=\"600px\">](https://youtu.be/frpsKLNW1q4)\n",
        "\n",
        "[【エンジニア向け】OpenAIのAPI連携方法【環境構築 + GASによるGoogle Documentへの組み込み】](https://youtu.be/frpsKLNW1q4)"
      ],
      "metadata": {
        "id": "VzJbZ0zwlp-1"
      }
    },
    {
      "cell_type": "markdown",
      "source": [
        "## 環境構築"
      ],
      "metadata": {
        "id": "umvezGLzQ5-3"
      }
    },
    {
      "cell_type": "code",
      "source": [
        "!pip3 install langchain openai"
      ],
      "metadata": {
        "id": "YZwA51jTQNqv"
      },
      "execution_count": null,
      "outputs": []
    },
    {
      "cell_type": "code",
      "execution_count": null,
      "metadata": {
        "id": "cCzmvPurP9OP"
      },
      "outputs": [],
      "source": [
        "import os\n",
        "\n",
        "#TODO: APIキーの登録が必要\n",
        "os.environ[\"OPENAI_API_KEY\"] = \"...\""
      ]
    },
    {
      "cell_type": "markdown",
      "source": [
        "## 1. Toolsの使い方"
      ],
      "metadata": {
        "id": "tXfl6kiwQ9r8"
      }
    },
    {
      "cell_type": "code",
      "source": [
        "from langchain.agents import load_tools\n",
        "\n",
        "tool_names = [\"python_repl\"]\n",
        "tools = load_tools(tool_names)\n",
        "print(tools)"
      ],
      "metadata": {
        "id": "T1FOOtXDQJCH"
      },
      "execution_count": null,
      "outputs": []
    },
    {
      "cell_type": "code",
      "source": [
        "from langchain.llms import OpenAI\n",
        "from langchain.chains import LLMMathChain\n",
        "from langchain.agents import Tool\n",
        "from langchain.agents import load_tools\n",
        "\n",
        "tool_names = [\"python_repl\"]\n",
        "tools = load_tools(tool_names)\n",
        "\n",
        "llm = OpenAI(model_name=\"text-davinci-003\")\n",
        "llm_math_chain = LLMMathChain(llm=llm, verbose=True)\n",
        "\n",
        "tools.append(\n",
        "    Tool(\n",
        "        name=\"Calculator\",\n",
        "        func=llm_math_chain.run,\n",
        "        description=\"useful for when you need to answer questions about math\"\n",
        "    ),\n",
        ")\n",
        "print(tools)\n",
        "print(len(tools))"
      ],
      "metadata": {
        "id": "q57Q9FbXjwoj"
      },
      "execution_count": null,
      "outputs": []
    },
    {
      "cell_type": "markdown",
      "source": [
        "## 2. Agentsの使い方"
      ],
      "metadata": {
        "id": "6IL5HMfJRAl7"
      }
    },
    {
      "cell_type": "code",
      "source": [
        "!pip3 install duckduckgo-search"
      ],
      "metadata": {
        "id": "zGL3t7pPxaKj"
      },
      "execution_count": null,
      "outputs": []
    },
    {
      "cell_type": "code",
      "source": [
        "from langchain.llms import OpenAI\n",
        "from langchain.chains import LLMMathChain\n",
        "from langchain.agents import Tool\n",
        "from langchain.agents import load_tools\n",
        "from langchain.agents import initialize_agent\n",
        "from langchain.agents import AgentType\n",
        "from langchain.tools import DuckDuckGoSearchRun\n",
        "\n",
        "llm = OpenAI(model_name=\"text-davinci-003\")\n",
        "\n",
        "tool_names = [\"llm-math\"]\n",
        "tools = load_tools(tool_names, llm=llm)\n",
        "\n",
        "search = DuckDuckGoSearchRun()\n",
        "tools.append(\n",
        "    Tool(\n",
        "        name=\"duckduckgo-search\",\n",
        "        func=search.run,\n",
        "        description=\"useful for when you need to search for latest information in web\"\n",
        "    )\n",
        ")\n",
        "\n",
        "agent = initialize_agent(tools, llm, agent=AgentType.ZERO_SHOT_REACT_DESCRIPTION, verbose=True)\n",
        "agent.run(\"\"\"\n",
        "現在の20代の日本人男性の平均身長を教えて。\n",
        "そして、私の身長は168cmなため、日本全国から見た時の差を2乗した結果を教えて。\n",
        "\"\"\")"
      ],
      "metadata": {
        "id": "CdtKqPcwKSyG"
      },
      "execution_count": null,
      "outputs": []
    },
    {
      "cell_type": "markdown",
      "source": [
        "## 3. Toolkitsの使い方"
      ],
      "metadata": {
        "id": "7zTEZAM9REHy"
      }
    },
    {
      "cell_type": "code",
      "source": [
        "from langchain.llms import OpenAI\n",
        "from langchain.agents.agent_toolkits import create_python_agent\n",
        "from langchain.tools.python.tool import PythonREPLTool\n",
        "\n",
        "llm = OpenAI(model_name=\"text-davinci-003\")\n",
        "agent_executor = create_python_agent(\n",
        "    llm=llm,\n",
        "    tool=PythonREPLTool(),\n",
        "    verbose=True,\n",
        ")\n",
        "agent_executor.run(\"5つ目の素数は何？\")"
      ],
      "metadata": {
        "id": "UURUABRab1ry"
      },
      "execution_count": null,
      "outputs": []
    },
    {
      "cell_type": "code",
      "source": [
        "from langchain.llms import OpenAI\n",
        "from langchain.agents.agent_toolkits import create_python_agent\n",
        "from langchain.tools.python.tool import PythonREPLTool\n",
        "\n",
        "llm = OpenAI(model_name=\"text-davinci-003\")\n",
        "agent_executor = create_python_agent(\n",
        "    llm=llm,\n",
        "    tool=PythonREPLTool(),\n",
        "    verbose=True,\n",
        ")\n",
        "agent_executor.run(\"\"\"\n",
        "Pytorchで単層ニューラルネットワークのモデルを作成し、y=2xの式により生成したデータを100個で学習してください。\n",
        "最後に、x=5に対する予測をしてください。\n",
        "\"\"\")"
      ],
      "metadata": {
        "id": "AEfwNYyDOUb2"
      },
      "execution_count": null,
      "outputs": []
    },
    {
      "cell_type": "markdown",
      "source": [
        "## 4. Agent Executorの使い方"
      ],
      "metadata": {
        "id": "9kfCbyZSg-G1"
      }
    },
    {
      "cell_type": "code",
      "source": [
        "# 「3. Toolkitsの使い方」と同じ内容。\n",
        "from langchain.llms import OpenAI\n",
        "from langchain.agents.agent_toolkits import create_python_agent\n",
        "from langchain.tools.python.tool import PythonREPLTool\n",
        "\n",
        "llm = OpenAI(model_name=\"text-davinci-003\")\n",
        "agent_executor = create_python_agent(\n",
        "    llm=llm,\n",
        "    tool=PythonREPLTool(),\n",
        "    verbose=True,\n",
        ")\n",
        "agent_executor.run(\"5つ目の素数は何？\")"
      ],
      "metadata": {
        "id": "E1LsL2Sog-G9"
      },
      "execution_count": null,
      "outputs": []
    }
  ]
}