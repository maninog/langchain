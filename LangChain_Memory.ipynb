{
  "nbformat": 4,
  "nbformat_minor": 0,
  "metadata": {
    "colab": {
      "provenance": [],
      "collapsed_sections": [
        "JD7i8esIliVO"
      ],
      "include_colab_link": true
    },
    "kernelspec": {
      "name": "python3",
      "display_name": "Python 3"
    },
    "language_info": {
      "name": "python"
    }
  },
  "cells": [
    {
      "cell_type": "markdown",
      "metadata": {
        "id": "view-in-github",
        "colab_type": "text"
      },
      "source": [
        "<a href=\"https://colab.research.google.com/github/maninog/langchain/blob/main/LangChain_Memory.ipynb\" target=\"_parent\"><img src=\"https://colab.research.google.com/assets/colab-badge.svg\" alt=\"Open In Colab\"/></a>"
      ]
    },
    {
      "cell_type": "markdown",
      "source": [
        "# LangChain Memory"
      ],
      "metadata": {
        "id": "ulRQ6MLpRL1D"
      }
    },
    {
      "cell_type": "markdown",
      "source": [
        "## README\n",
        "- author: [Masumi Morishige](https://twitter.com/masumi_creator)\n",
        "- created_at: 2023-05-02\n",
        "- updated_at: 2023-05-06\n",
        "\n",
        "### 実行方法\n",
        "1. OpenAIのAPIキーを発行\n",
        "2. `os.environ[\"OPENAI_API_KEY\"] = \"...\"`の`\"\"`の中にご自身のAPIキーを代入\n",
        "3. 「ランタイム > すべてのセルを実行」を実行\n",
        "\n",
        "### 参考情報\n",
        "- Zenn: [LangChain Memoryとは？【Chat Message History・Conversation Buffer Memory】](https://zenn.dev/umi_mori/books/prompt-engineer/viewer/langchain_memory)\n",
        "- YouTube: [LangChain Memoryとは？【Chat Message History / Conversation Buffer Memory】](https://youtu.be/57egG_y4vUE)"
      ],
      "metadata": {
        "id": "uOl1zH0slNik"
      }
    },
    {
      "cell_type": "markdown",
      "source": [
        "### OpenAI APIの発行方法"
      ],
      "metadata": {
        "id": "JD7i8esIliVO"
      }
    },
    {
      "cell_type": "markdown",
      "source": [
        "[<img src=\"https://img.youtube.com/vi/frpsKLNW1q4/maxresdefault.jpg\" width=\"600px\">](https://youtu.be/frpsKLNW1q4)\n",
        "\n",
        "[【エンジニア向け】OpenAIのAPI連携方法【環境構築 + GASによるGoogle Documentへの組み込み】](https://youtu.be/frpsKLNW1q4)"
      ],
      "metadata": {
        "id": "QFjDc1OClrXa"
      }
    },
    {
      "cell_type": "markdown",
      "source": [
        "## 環境構築"
      ],
      "metadata": {
        "id": "umvezGLzQ5-3"
      }
    },
    {
      "cell_type": "code",
      "source": [
        "!pip3 install langchain openai"
      ],
      "metadata": {
        "id": "YZwA51jTQNqv"
      },
      "execution_count": null,
      "outputs": []
    },
    {
      "cell_type": "code",
      "execution_count": null,
      "metadata": {
        "id": "cCzmvPurP9OP"
      },
      "outputs": [],
      "source": [
        "import os\n",
        "\n",
        "#TODO: APIキーの登録が必要\n",
        "os.environ[\"OPENAI_API_KEY\"] = \"...\""
      ]
    },
    {
      "cell_type": "markdown",
      "source": [
        "## 1. Chat Message Historyの使い方"
      ],
      "metadata": {
        "id": "tXfl6kiwQ9r8"
      }
    },
    {
      "cell_type": "code",
      "source": [
        "from langchain.memory import ChatMessageHistory\n",
        "from langchain.schema import messages_to_dict\n",
        "from langchain.schema import messages_from_dict\n",
        "\n",
        "history = ChatMessageHistory()\n",
        "\n",
        "history.add_user_message(\"AIとは何？\")\n",
        "history.add_ai_message(\"AIとは、人工知能のことです。\")\n",
        "\n",
        "message_list = history.messages\n",
        "message_dict = messages_to_dict(message_list)\n",
        "print(message_list)\n",
        "print(message_dict)\n",
        "\n",
        "message_list_from_dict = messages_from_dict(message_dict)\n",
        "print(message_list_from_dict)"
      ],
      "metadata": {
        "id": "T1FOOtXDQJCH"
      },
      "execution_count": null,
      "outputs": []
    },
    {
      "cell_type": "markdown",
      "source": [
        "## 2. Simple Memoryの使い方"
      ],
      "metadata": {
        "id": "6IL5HMfJRAl7"
      }
    },
    {
      "cell_type": "code",
      "source": [
        "from langchain.llms import OpenAI\n",
        "from langchain.prompts import PromptTemplate\n",
        "from langchain.chains import LLMChain\n",
        "from langchain.chains import SequentialChain\n",
        "from langchain.memory import SimpleMemory\n",
        "\n",
        "llm = OpenAI(model_name=\"text-davinci-003\")\n",
        "prompt_1 = PromptTemplate(\n",
        "    input_variables=[\"adjective\", \"job\", \"time\"],\n",
        "    template=\"{time}において、{adjective}{job}に一番オススメのプログラミング言語は?\\nプログラミング言語：\",\n",
        ")\n",
        "chain_1 = LLMChain(llm=llm, prompt=prompt_1, output_key=\"programming_language\")\n",
        "\n",
        "prompt_2 = PromptTemplate(\n",
        "    input_variables=[\"programming_language\", \"time\"],\n",
        "    template=\"現在は{time}だとします。{programming_language}を学ぶためにやるべきことを3ステップで100文字で教えて。\",\n",
        ")\n",
        "chain_2 = LLMChain(llm=llm, prompt=prompt_2, output_key=\"learning_step\")\n",
        "\n",
        "overall_chain = SequentialChain(\n",
        "    chains=[chain_1, chain_2],\n",
        "    input_variables=[\"adjective\", \"job\"],\n",
        "    output_variables=[\"programming_language\", \"learning_step\"],\n",
        "    verbose=True,\n",
        "    memory=SimpleMemory(memories={\"time\": \"2030年\"}),\n",
        ")\n",
        "output = overall_chain({\n",
        "    \"adjective\": \"ベテランの\",\n",
        "    \"job\": \"エンジニア\",\n",
        "})\n",
        "print(output)"
      ],
      "metadata": {
        "id": "d8_GN9S8gimg"
      },
      "execution_count": null,
      "outputs": []
    },
    {
      "cell_type": "markdown",
      "source": [
        "## 3. Buffer Memoryの使い方"
      ],
      "metadata": {
        "id": "ij49O1CllUtB"
      }
    },
    {
      "cell_type": "code",
      "source": [
        "from langchain.llms import OpenAI\n",
        "from langchain.memory import ConversationBufferMemory\n",
        "\n",
        "memory = ConversationBufferMemory()\n",
        "\n",
        "memory.save_context(\n",
        "    {\"input\": \"AIとは何？\"},\n",
        "    {\"output\": \"AIとは、人工知能のことです。\"},\n",
        ")\n",
        "print(memory.load_memory_variables({}))"
      ],
      "metadata": {
        "id": "G6ZkY9D9QMdI"
      },
      "execution_count": null,
      "outputs": []
    },
    {
      "cell_type": "code",
      "source": [
        "from langchain.llms import OpenAI\n",
        "from langchain.memory import ConversationBufferMemory\n",
        "\n",
        "memory = ConversationBufferMemory(return_messages=True)\n",
        "\n",
        "memory.save_context(\n",
        "    {\"input\": \"AIとは何？\"},\n",
        "    {\"output\": \"AIとは、人工知能のことです。\"},\n",
        ")\n",
        "print(memory.load_memory_variables({}))"
      ],
      "metadata": {
        "id": "qznGmGVKizj7"
      },
      "execution_count": null,
      "outputs": []
    },
    {
      "cell_type": "code",
      "source": [
        "from langchain.llms import OpenAI\n",
        "from langchain.chains import ConversationChain\n",
        "\n",
        "\n",
        "llm = OpenAI(model_name=\"text-davinci-003\")\n",
        "conversation = ConversationChain(\n",
        "    llm=llm,\n",
        "    verbose=True,\n",
        "    memory=ConversationBufferMemory()\n",
        ")\n",
        "\n",
        "conversation(\"AIとは何？\")"
      ],
      "metadata": {
        "id": "bj3TM0HZjEWg"
      },
      "execution_count": null,
      "outputs": []
    },
    {
      "cell_type": "code",
      "source": [
        "conversation(\"より詳しく教えて。\")"
      ],
      "metadata": {
        "id": "TZuRlxdglVkj"
      },
      "execution_count": null,
      "outputs": []
    },
    {
      "cell_type": "markdown",
      "source": [
        "## 4. LLMChainでの実装方法"
      ],
      "metadata": {
        "id": "k-6eQHjDzSx7"
      }
    },
    {
      "cell_type": "code",
      "source": [
        "from langchain.memory import ConversationBufferMemory\n",
        "from langchain import OpenAI, LLMChain, PromptTemplate\n",
        "\n",
        "template = \"\"\"あなたは人間と話すチャットボットです。\n",
        "\n",
        "{chat_history}\n",
        "Human: {human_input}\n",
        "Chatbot:\"\"\"\n",
        "\n",
        "prompt = PromptTemplate(\n",
        "    input_variables=[\"chat_history\", \"human_input\"],\n",
        "    template=template\n",
        ")\n",
        "memory = ConversationBufferMemory(memory_key=\"chat_history\")\n",
        "\n",
        "llm_chain = LLMChain(\n",
        "    llm=OpenAI(model_name=\"text-davinci-003\"),\n",
        "    prompt=prompt,\n",
        "    verbose=True,\n",
        "    memory=memory,\n",
        ")\n",
        "\n",
        "llm_chain.predict(human_input=\"AIとは何？\")"
      ],
      "metadata": {
        "id": "Wct5ir2RlbTP"
      },
      "execution_count": null,
      "outputs": []
    },
    {
      "cell_type": "code",
      "source": [
        "llm_chain.predict(human_input=\"より詳しく教えて。\")"
      ],
      "metadata": {
        "id": "BGrFBGaHgex_"
      },
      "execution_count": null,
      "outputs": []
    }
  ]
}