{
  "nbformat": 4,
  "nbformat_minor": 0,
  "metadata": {
    "colab": {
      "provenance": [],
      "collapsed_sections": [
        "F5nx4Jw5Xt5F"
      ],
      "include_colab_link": true
    },
    "kernelspec": {
      "name": "python3",
      "display_name": "Python 3"
    },
    "language_info": {
      "name": "python"
    }
  },
  "cells": [
    {
      "cell_type": "markdown",
      "metadata": {
        "id": "view-in-github",
        "colab_type": "text"
      },
      "source": [
        "<a href=\"https://colab.research.google.com/github/maninog/langchain/blob/main/LangChain_Indexes_Cite_Source.ipynb\" target=\"_parent\"><img src=\"https://colab.research.google.com/assets/colab-badge.svg\" alt=\"Open In Colab\"/></a>"
      ]
    },
    {
      "cell_type": "markdown",
      "source": [
        "# LangChain Cite Source"
      ],
      "metadata": {
        "id": "ulRQ6MLpRL1D"
      }
    },
    {
      "cell_type": "markdown",
      "source": [
        "## README\n",
        "- author: [Masumi Morishige](https://twitter.com/masumi_creator)\n",
        "- created_at: 2023-08-05\n",
        "- updated_at: 2023-08-05\n",
        "\n",
        "### 実行方法\n",
        "1. OpenAIのAPIキーを発行\n",
        "2. `os.environ[\"OPENAI_API_KEY\"] = \"...\"`の`\"\"`の中にご自身のAPIキーを代入\n",
        "3. 「ランタイム > すべてのセルを実行」を実行\n",
        "\n",
        "### 参考情報\n",
        "- Zenn: [文献参照をするChatGPTの作り方【LangChain / Python】](https://zenn.dev/umi_mori/articles/langchain-cite-source)\n",
        "- YouTube: [文献参照をするChatGPTの作り方【LangChain / Python】](https://youtu.be/KuoSiUwkWts)"
      ],
      "metadata": {
        "id": "LGsXSj2f-Dq2"
      }
    },
    {
      "cell_type": "markdown",
      "metadata": {
        "id": "F5nx4Jw5Xt5F"
      },
      "source": [
        "### OpenAI APIの発行方法"
      ]
    },
    {
      "cell_type": "markdown",
      "metadata": {
        "id": "PWofrohjgY9B"
      },
      "source": [
        "[<img src=\"https://img.youtube.com/vi/frpsKLNW1q4/maxresdefault.jpg\" width=\"600px\">](https://youtu.be/frpsKLNW1q4)\n",
        "\n",
        "[【エンジニア向け】OpenAIのAPI連携方法【環境構築 + GASによるGoogle Documentへの組み込み】](https://youtu.be/frpsKLNW1q4)"
      ]
    },
    {
      "cell_type": "markdown",
      "source": [
        "## 環境構築"
      ],
      "metadata": {
        "id": "umvezGLzQ5-3"
      }
    },
    {
      "cell_type": "code",
      "source": [
        "!pip install langchain==0.0.252"
      ],
      "metadata": {
        "id": "YZwA51jTQNqv"
      },
      "execution_count": null,
      "outputs": []
    },
    {
      "cell_type": "code",
      "source": [
        "!pip install openai==0.27.8"
      ],
      "metadata": {
        "id": "hIL1fCTAQXkD"
      },
      "execution_count": null,
      "outputs": []
    },
    {
      "cell_type": "code",
      "execution_count": null,
      "metadata": {
        "id": "cCzmvPurP9OP"
      },
      "outputs": [],
      "source": [
        "import os\n",
        "\n",
        "#TODO: APIキーの登録が必要\n",
        "os.environ[\"OPENAI_API_KEY\"] = \"...\""
      ]
    },
    {
      "cell_type": "markdown",
      "source": [
        "## 実装方法"
      ],
      "metadata": {
        "id": "tXfl6kiwQ9r8"
      }
    },
    {
      "cell_type": "code",
      "source": [
        "from langchain.chains import create_citation_fuzzy_match_chain\n",
        "from langchain.chat_models import ChatOpenAI\n",
        "\n",
        "llm = ChatOpenAI(temperature=0, model=\"gpt-4\")\n",
        "chain = create_citation_fuzzy_match_chain(llm)\n",
        "\n",
        "question = \"今の日本の総理大臣は、何代目？\"\n",
        "context = \"\"\"\n",
        "内閣総理大臣（ないかくそうりだいじん、英: Prime Minister）は、日本の内閣の首長たる国務大臣。\n",
        "文民である国会議員が就任し、その地位及び権限は日本国憲法や内閣法などに規定されている。\n",
        "現任は、第101代岸田文雄（在任: 2021年〈令和3年〉11月10日 - ）。\n",
        "\"\"\" # Wikipediaより引用\n",
        "\n",
        "result = chain.run(question=question, context=context)\n",
        "print(result)"
      ],
      "metadata": {
        "id": "OMC2bpN9jPg7"
      },
      "execution_count": null,
      "outputs": []
    },
    {
      "cell_type": "code",
      "source": [
        "def highlight(text, span):\n",
        "    return (\n",
        "        \"...\"\n",
        "        + text[span[0] - 20 : span[0]]\n",
        "        + \"*\"\n",
        "        + \"\\033[91m\"\n",
        "        + text[span[0] : span[1]]\n",
        "        + \"\\033[0m\"\n",
        "        + \"*\"\n",
        "        + text[span[1] : span[1] + 20]\n",
        "        + \"...\"\n",
        "    )\n",
        "\n",
        "for fact in result.answer:\n",
        "    print(\"Statement:\", fact.fact)\n",
        "    for span in fact.get_spans(context):\n",
        "        print(\"Citation:\", highlight(context, span))\n",
        "    print()"
      ],
      "metadata": {
        "id": "cC4mz4eFjfHH"
      },
      "execution_count": null,
      "outputs": []
    }
  ]
}