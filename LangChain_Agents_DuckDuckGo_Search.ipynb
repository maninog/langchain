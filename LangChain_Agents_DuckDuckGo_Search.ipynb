{
  "nbformat": 4,
  "nbformat_minor": 0,
  "metadata": {
    "colab": {
      "provenance": [],
      "collapsed_sections": [
        "yvCUl0OPXilh",
        "rM4HsoOqWxAE"
      ],
      "include_colab_link": true
    },
    "kernelspec": {
      "name": "python3",
      "display_name": "Python 3"
    },
    "language_info": {
      "name": "python"
    }
  },
  "cells": [
    {
      "cell_type": "markdown",
      "metadata": {
        "id": "view-in-github",
        "colab_type": "text"
      },
      "source": [
        "<a href=\"https://colab.research.google.com/github/maninog/langchain/blob/main/LangChain_Agents_DuckDuckGo_Search.ipynb\" target=\"_parent\"><img src=\"https://colab.research.google.com/assets/colab-badge.svg\" alt=\"Open In Colab\"/></a>"
      ]
    },
    {
      "cell_type": "markdown",
      "source": [
        "# LangChain Agents (DuckDuckGo Search)"
      ],
      "metadata": {
        "id": "ulRQ6MLpRL1D"
      }
    },
    {
      "cell_type": "markdown",
      "source": [
        "## README\n",
        "- author: [Masumi Morishige](https://twitter.com/masumi_creator)\n",
        "- created_at: 2023-04-26\n",
        "- updated_at: 2023-06-28\n",
        "\n",
        "### 実行方法\n",
        "1. OpenAIのAPIキーを発行\n",
        "2. `os.environ[\"OPENAI_API_KEY\"] = \"...\"`の`\"\"`の中にご自身のAPIキーを代入\n",
        "3. 「ランタイム > すべてのセルを実行」を実行\n",
        "\n",
        "### 参考情報\n",
        "- Zenn: [制作中]\n",
        "- YouTube: [検索用APIを使わずにウェブページをChatGPTに学習させる方法【Python / LangChain / FAQ】](https://youtu.be/rjzbA2wUML4)"
      ],
      "metadata": {
        "id": "LGsXSj2f-Dq2"
      }
    },
    {
      "cell_type": "markdown",
      "metadata": {
        "id": "yvCUl0OPXilh"
      },
      "source": [
        "### OpenAI APIの発行方法"
      ]
    },
    {
      "cell_type": "markdown",
      "metadata": {
        "id": "PWofrohjgY9B"
      },
      "source": [
        "[<img src=\"https://img.youtube.com/vi/frpsKLNW1q4/maxresdefault.jpg\" width=\"600px\">](https://youtu.be/frpsKLNW1q4)\n",
        "\n",
        "[【エンジニア向け】OpenAIのAPI連携方法【環境構築 + GASによるGoogle Documentへの組み込み】](https://youtu.be/frpsKLNW1q4)"
      ]
    },
    {
      "cell_type": "markdown",
      "source": [
        "## 環境構築"
      ],
      "metadata": {
        "id": "umvezGLzQ5-3"
      }
    },
    {
      "cell_type": "code",
      "source": [
        "!pip install langchain==0.0.149"
      ],
      "metadata": {
        "id": "YZwA51jTQNqv"
      },
      "execution_count": null,
      "outputs": []
    },
    {
      "cell_type": "code",
      "source": [
        "!pip install openai==0.27.8"
      ],
      "metadata": {
        "id": "hIL1fCTAQXkD"
      },
      "execution_count": null,
      "outputs": []
    },
    {
      "cell_type": "code",
      "execution_count": null,
      "metadata": {
        "id": "cCzmvPurP9OP"
      },
      "outputs": [],
      "source": [
        "import os\n",
        "\n",
        "#TODO: APIキーの登録が必要\n",
        "os.environ[\"OPENAI_API_KEY\"] = \"...\""
      ]
    },
    {
      "cell_type": "code",
      "source": [
        "!pip install duckduckgo-search==3.8.3"
      ],
      "metadata": {
        "id": "Ciz_HGuwFay-"
      },
      "execution_count": null,
      "outputs": []
    },
    {
      "cell_type": "markdown",
      "source": [
        "## 実装方法"
      ],
      "metadata": {
        "id": "tXfl6kiwQ9r8"
      }
    },
    {
      "cell_type": "markdown",
      "source": [
        "### ベーシックな実装（ZERO_SHOT_REACT_DESCRIPTION）"
      ],
      "metadata": {
        "id": "a7QfP2ubeXAr"
      }
    },
    {
      "cell_type": "code",
      "source": [
        "from langchain.llms import OpenAI\n",
        "from langchain.agents import load_tools\n",
        "from langchain.agents import initialize_agent\n",
        "from langchain.agents import AgentType\n",
        "from langchain.agents import Tool\n",
        "from langchain.tools import DuckDuckGoSearchTool\n",
        "\n",
        "llm = OpenAI(model_name=\"text-davinci-003\")\n",
        "search = DuckDuckGoSearchTool()\n",
        "\n",
        "tools = [\n",
        "    Tool(\n",
        "        name=\"duckduckgo-search\",\n",
        "        func=search.run,\n",
        "        description=\"useful for when you need to search for latest information in web\",\n",
        "    )\n",
        "]\n",
        "\n",
        "agent = initialize_agent(\n",
        "    tools=tools,\n",
        "    llm=llm,\n",
        "    agent=AgentType.ZERO_SHOT_REACT_DESCRIPTION,\n",
        "    verbose=True\n",
        ")\n",
        "\n",
        "agent.run(\"\"\"\n",
        "現在の日本の総理大臣は誰ですか？\n",
        "\"\"\")"
      ],
      "metadata": {
        "id": "CdtKqPcwKSyG"
      },
      "execution_count": null,
      "outputs": []
    },
    {
      "cell_type": "markdown",
      "source": [
        "### チャットへの実装（CONVERSATIONAL_REACT_DESCRIPTION）"
      ],
      "metadata": {
        "id": "_r_FsCawegl6"
      }
    },
    {
      "cell_type": "code",
      "source": [
        "from langchain.llms import OpenAI\n",
        "from langchain.agents import load_tools\n",
        "from langchain.agents import initialize_agent\n",
        "from langchain.agents import AgentType\n",
        "from langchain.agents import Tool\n",
        "from langchain.memory import ConversationBufferMemory\n",
        "from langchain.tools import DuckDuckGoSearchTool\n",
        "\n",
        "llm = OpenAI(model_name=\"text-davinci-003\", temperature=0.2)\n",
        "search = DuckDuckGoSearchTool()\n",
        "\n",
        "tools = [\n",
        "    Tool(\n",
        "        name=\"duckduckgo-search\",\n",
        "        func=search.run,\n",
        "        description=\"useful for when you need to search for latest information in web\",\n",
        "    )\n",
        "]\n",
        "\n",
        "memory = ConversationBufferMemory(\n",
        "    memory_key=\"chat_history\",\n",
        "    return_messages=True,\n",
        ")\n",
        "\n",
        "agent = initialize_agent(\n",
        "    tools=tools,\n",
        "    llm=llm,\n",
        "    agent=AgentType.CONVERSATIONAL_REACT_DESCRIPTION,\n",
        "    memory=memory,\n",
        "    verbose=True\n",
        ")\n",
        "\n",
        "agent.run(\"\"\"\n",
        "現在の日本の総理大臣は誰ですか？\n",
        "\"\"\")"
      ],
      "metadata": {
        "id": "P5N65AdAxRoi"
      },
      "execution_count": null,
      "outputs": []
    },
    {
      "cell_type": "code",
      "source": [
        "agent.run(\"\"\"\n",
        "もっと詳しく教えて。\n",
        "\"\"\")"
      ],
      "metadata": {
        "id": "7hk1rUlixo7Y"
      },
      "execution_count": null,
      "outputs": []
    },
    {
      "cell_type": "code",
      "source": [
        "agent.run(\"\"\"\n",
        "インターネットの情報を用いて、もっと詳しく教えて。\n",
        "\"\"\")"
      ],
      "metadata": {
        "id": "gILFqraTqH1A"
      },
      "execution_count": null,
      "outputs": []
    },
    {
      "cell_type": "markdown",
      "source": [
        "### ウェブアプリ開発の方法"
      ],
      "metadata": {
        "id": "rM4HsoOqWxAE"
      }
    },
    {
      "cell_type": "markdown",
      "source": [
        "[<img src=\"https://img.youtube.com/vi/Cod-3ymwvsQ/maxresdefault.jpg\" width=\"600px\">](https://youtu.be/Cod-3ymwvsQ)\n",
        "\n",
        "[【Python x LangChain x Streamlit x OpenAI API】ChatGPTのウェブアプリ開発入門](https://youtu.be/Cod-3ymwvsQ)"
      ],
      "metadata": {
        "id": "rAguaCL9WxAF"
      }
    }
  ]
}