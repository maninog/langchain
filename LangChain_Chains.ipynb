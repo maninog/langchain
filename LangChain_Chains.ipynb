{
  "nbformat": 4,
  "nbformat_minor": 0,
  "metadata": {
    "colab": {
      "provenance": [],
      "collapsed_sections": [
        "XACrzTI1leZ_"
      ],
      "include_colab_link": true
    },
    "kernelspec": {
      "name": "python3",
      "display_name": "Python 3"
    },
    "language_info": {
      "name": "python"
    }
  },
  "cells": [
    {
      "cell_type": "markdown",
      "metadata": {
        "id": "view-in-github",
        "colab_type": "text"
      },
      "source": [
        "<a href=\"https://colab.research.google.com/github/maninog/langchain/blob/main/LangChain_Chains.ipynb\" target=\"_parent\"><img src=\"https://colab.research.google.com/assets/colab-badge.svg\" alt=\"Open In Colab\"/></a>"
      ]
    },
    {
      "cell_type": "markdown",
      "source": [
        "# LangChain Chains"
      ],
      "metadata": {
        "id": "ulRQ6MLpRL1D"
      }
    },
    {
      "cell_type": "markdown",
      "source": [
        "## README\n",
        "- author: [Masumi Morishige](https://twitter.com/masumi_creator)\n",
        "- created_at: 2023-05-02\n",
        "- updated_at: 2023-05-06\n",
        "\n",
        "### 実行方法\n",
        "1. OpenAIのAPIキーを発行\n",
        "2. `os.environ[\"OPENAI_API_KEY\"] = \"...\"`の`\"\"`の中にご自身のAPIキーを代入\n",
        "3. 「ランタイム > すべてのセルを実行」を実行\n",
        "\n",
        "### 参考情報\n",
        "- Zenn: [LangChain Chainsとは？【Simple・Sequential・Custom】](https://zenn.dev/umi_mori/books/prompt-engineer/viewer/langchain_chains)\n",
        "- YouTube: [LangChain Chainsとは？【Simple / Sequential / Custom】](https://youtu.be/SWzIm8H_-IU)"
      ],
      "metadata": {
        "id": "PVpGxKOXkyat"
      }
    },
    {
      "cell_type": "markdown",
      "source": [
        "### OpenAI APIの発行方法"
      ],
      "metadata": {
        "id": "XACrzTI1leZ_"
      }
    },
    {
      "cell_type": "markdown",
      "source": [
        "[<img src=\"https://img.youtube.com/vi/frpsKLNW1q4/maxresdefault.jpg\" width=\"600px\">](https://youtu.be/frpsKLNW1q4)\n",
        "\n",
        "[【エンジニア向け】OpenAIのAPI連携方法【環境構築 + GASによるGoogle Documentへの組み込み】](https://youtu.be/frpsKLNW1q4)"
      ],
      "metadata": {
        "id": "RvG6d-K-loBG"
      }
    },
    {
      "cell_type": "markdown",
      "source": [
        "## 環境構築"
      ],
      "metadata": {
        "id": "umvezGLzQ5-3"
      }
    },
    {
      "cell_type": "code",
      "source": [
        "!pip3 install langchain openai"
      ],
      "metadata": {
        "id": "YZwA51jTQNqv"
      },
      "execution_count": null,
      "outputs": []
    },
    {
      "cell_type": "code",
      "execution_count": null,
      "metadata": {
        "id": "cCzmvPurP9OP"
      },
      "outputs": [],
      "source": [
        "import os\n",
        "\n",
        "#TODO: APIキーの登録が必要\n",
        "os.environ[\"OPENAI_API_KEY\"] = \"...\""
      ]
    },
    {
      "cell_type": "markdown",
      "source": [
        "## 1. Simple Chainの使い方"
      ],
      "metadata": {
        "id": "tXfl6kiwQ9r8"
      }
    },
    {
      "cell_type": "code",
      "source": [
        "from langchain.llms import OpenAI\n",
        "from langchain.prompts import PromptTemplate\n",
        "from langchain.chains import LLMChain\n",
        "\n",
        "llm = OpenAI(model_name=\"text-davinci-003\")\n",
        "prompt = PromptTemplate(\n",
        "    input_variables=[\"job\"],\n",
        "    template=\"{job}に一番オススメのプログラミング言語は何?\"\n",
        ")\n",
        "chain = LLMChain(llm=llm, prompt=prompt)\n",
        "print(chain(\"データサイエンティスト\"))"
      ],
      "metadata": {
        "id": "T1FOOtXDQJCH"
      },
      "execution_count": null,
      "outputs": []
    },
    {
      "cell_type": "code",
      "source": [
        "from langchain.chat_models import ChatOpenAI\n",
        "from langchain.prompts import PromptTemplate\n",
        "from langchain.prompts.chat import (\n",
        "    ChatPromptTemplate,\n",
        "    HumanMessagePromptTemplate\n",
        ")\n",
        "from langchain.chains import LLMChain\n",
        "\n",
        "human_message_prompt = HumanMessagePromptTemplate(\n",
        "    prompt=PromptTemplate(\n",
        "        input_variables=[\"job\"],\n",
        "\t\t\t\ttemplate=\"{job}に一番オススメのプログラミング言語は何?\"\n",
        "    )\n",
        ")\n",
        "\n",
        "chat_prompt_template = ChatPromptTemplate.from_messages([human_message_prompt])\n",
        "chain = LLMChain(\n",
        "    llm=ChatOpenAI(model_name=\"gpt-3.5-turbo\"),\n",
        "    prompt=chat_prompt_template\n",
        ")\n",
        "\n",
        "print(chain(\"データサイエンティスト\"))"
      ],
      "metadata": {
        "id": "KJgGniLgMW22"
      },
      "execution_count": null,
      "outputs": []
    },
    {
      "cell_type": "markdown",
      "source": [
        "## 2. Sequential Chainsの使い方"
      ],
      "metadata": {
        "id": "6IL5HMfJRAl7"
      }
    },
    {
      "cell_type": "code",
      "source": [
        "# SimpleSequentialChainの使い方①\n",
        "from langchain.llms import OpenAI\n",
        "from langchain.prompts import PromptTemplate\n",
        "from langchain.chains import LLMChain\n",
        "from langchain.chains import SimpleSequentialChain\n",
        "\n",
        "llm = OpenAI(model_name=\"text-davinci-003\")\n",
        "prompt_1 = PromptTemplate(\n",
        "\t\tinput_variables=[\"job\"],\n",
        "\t\ttemplate=\"{job}に一番オススメのプログラミング言語は何?\"\n",
        ")\n",
        "chain_1 = LLMChain(llm=llm, prompt=prompt_1)\n",
        "\n",
        "prompt_2 = PromptTemplate(\n",
        "    input_variables=[\"programming_language\"],\n",
        "    template=\"{programming_language}を学ぶためにやるべきことを3ステップで100文字で教えて。\",\n",
        ")\n",
        "chain_2 = LLMChain(llm=llm, prompt=prompt_2)\n",
        "\n",
        "overall_chain = SimpleSequentialChain(chains=[chain_1, chain_2], verbose=True)\n",
        "print(overall_chain(\"データサイエンティスト\"))"
      ],
      "metadata": {
        "id": "G6ZkY9D9QMdI"
      },
      "execution_count": null,
      "outputs": []
    },
    {
      "cell_type": "code",
      "source": [
        "# SimpleSequentialChainの使い方②\n",
        "from langchain.llms import OpenAI\n",
        "from langchain.prompts import PromptTemplate\n",
        "from langchain.chains import LLMChain\n",
        "from langchain.chains import SimpleSequentialChain\n",
        "\n",
        "llm = OpenAI(model_name=\"text-davinci-003\")\n",
        "prompt_1 = PromptTemplate(\n",
        "    input_variables=[\"job\"],\n",
        "    template=\"{job}に一番オススメのプログラミング言語は?\\nプログラミング言語：\"\n",
        ")\n",
        "chain_1 = LLMChain(llm=llm, prompt=prompt_1)\n",
        "\n",
        "prompt_2 = PromptTemplate(\n",
        "    input_variables=[\"programming_language\"],\n",
        "    template=\"{programming_language}を学ぶためにやるべきことを3ステップで100文字で教えて。\"\n",
        ")\n",
        "chain_2 = LLMChain(llm=llm, prompt=prompt_2)\n",
        "\n",
        "overall_chain = SimpleSequentialChain(chains=[chain_1, chain_2], verbose=True)\n",
        "print(overall_chain(\"データサイエンティスト\"))"
      ],
      "metadata": {
        "id": "bkEN8i5KA-Pv"
      },
      "execution_count": null,
      "outputs": []
    },
    {
      "cell_type": "code",
      "source": [
        "# SequentialChainの使い方\n",
        "from langchain.llms import OpenAI\n",
        "from langchain.prompts import PromptTemplate\n",
        "from langchain.chains import LLMChain\n",
        "from langchain.chains import SequentialChain\n",
        "\n",
        "llm = OpenAI(model_name=\"text-davinci-003\")\n",
        "prompt_1 = PromptTemplate(\n",
        "    input_variables=[\"adjective\", \"job\"],\n",
        "    template=\"{adjective}{job}に一番オススメのプログラミング言語は?\\nプログラミング言語：\",\n",
        ")\n",
        "chain_1 = LLMChain(llm=llm, prompt=prompt_1, output_key=\"programming_language\")\n",
        "\n",
        "prompt_2 = PromptTemplate(\n",
        "    input_variables=[\"programming_language\"],\n",
        "    template=\"{programming_language}を学ぶためにやるべきことを3ステップで100文字で教えて。\",\n",
        ")\n",
        "chain_2 = LLMChain(llm=llm, prompt=prompt_2, output_key=\"learning_step\")\n",
        "\n",
        "overall_chain = SequentialChain(\n",
        "    chains=[chain_1, chain_2],\n",
        "    input_variables=[\"adjective\", \"job\"],\n",
        "    output_variables=[\"programming_language\", \"learning_step\"],\n",
        "    verbose=True,\n",
        ")\n",
        "output = overall_chain({\n",
        "    \"adjective\": \"ベテランの\",\n",
        "    \"job\": \"データサイエンティスト\",\n",
        "})\n",
        "print(output)"
      ],
      "metadata": {
        "id": "SUG2XmjyO4SM"
      },
      "execution_count": null,
      "outputs": []
    },
    {
      "cell_type": "markdown",
      "source": [
        "## 3. Custom Chainの使い方"
      ],
      "metadata": {
        "id": "7zTEZAM9REHy"
      }
    },
    {
      "cell_type": "code",
      "source": [
        "from langchain.chains import LLMChain\n",
        "from langchain.chains.base import Chain\n",
        "\n",
        "from typing import Dict, List\n",
        "\n",
        "\n",
        "class ConcatenateChain(Chain):\n",
        "    chain_1: LLMChain\n",
        "    chain_2: LLMChain\n",
        "\n",
        "    @property\n",
        "    def input_keys(self) -> List[str]:\n",
        "        all_input_vars = set(self.chain_1.input_keys).union(set(self.chain_2.input_keys))\n",
        "        return list(all_input_vars)\n",
        "\n",
        "    @property\n",
        "    def output_keys(self) -> List[str]:\n",
        "        return ['concat_output']\n",
        "\n",
        "    def _call(self, inputs: Dict[str, str]) -> Dict[str, str]:\n",
        "        output_1 = self.chain_1.run(inputs)\n",
        "        output_2 = self.chain_2.run(inputs)\n",
        "        return {'concat_output': output_1 + \"\\n\" + output_2}\n",
        "\n",
        "llm = OpenAI(model_name=\"text-davinci-003\")\n",
        "prompt_1 = PromptTemplate(\n",
        "    input_variables=[\"job\"],\n",
        "    template=\"{job}に一番オススメのプログラミング言語は?\\nプログラミング言語：\",\n",
        ")\n",
        "chain_1 = LLMChain(llm=llm, prompt=prompt_1)\n",
        "\n",
        "prompt_2 = PromptTemplate(\n",
        "    input_variables=[\"job\"],\n",
        "    template=\"{job}の平均年収は？\\n平均年収：\",\n",
        ")\n",
        "chain_2 = LLMChain(llm=llm, prompt=prompt_2)\n",
        "\n",
        "concat_chain = ConcatenateChain(chain_1=chain_1, chain_2=chain_2, verbose=True)\n",
        "print(concat_chain.run(\"データサイエンティスト\"))"
      ],
      "metadata": {
        "id": "oQ-3ELRHBc5t"
      },
      "execution_count": null,
      "outputs": []
    }
  ]
}